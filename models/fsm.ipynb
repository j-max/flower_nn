{
 "cells": [
  {
   "cell_type": "code",
   "execution_count": 5,
   "metadata": {},
   "outputs": [],
   "source": [
    "import pandas as pd\n",
    "import numpy as np\n",
    "\n",
    "import matplotlib.pyplot as plt\n",
    "from keras.preprocessing import image\n",
    "\n",
    "from keras.models import Sequential\n",
    "from keras.layers import Dense, Activation, Conv2D, MaxPool2D, Flatten"
   ]
  },
  {
   "cell_type": "code",
   "execution_count": 2,
   "metadata": {},
   "outputs": [
    {
     "name": "stdout",
     "output_type": "stream",
     "text": [
      "Found 2500 images belonging to 5 classes.\n"
     ]
    }
   ],
   "source": [
    "train_datagen = image.ImageDataGenerator(\n",
    "        rescale=1./255)\n",
    "\n",
    "test_datagen = image.ImageDataGenerator(rescale=1./255)\n",
    "\n",
    "train_generator = train_datagen.flow_from_directory(\n",
    "        '../data/split/train',\n",
    "        target_size=(150, 150),\n",
    "        batch_size=32,\n",
    "        class_mode='categorical',\n",
    ")"
   ]
  },
  {
   "cell_type": "code",
   "execution_count": 3,
   "metadata": {},
   "outputs": [
    {
     "name": "stdout",
     "output_type": "stream",
     "text": [
      "Found 620 images belonging to 5 classes.\n"
     ]
    }
   ],
   "source": [
    "validation_generator = test_datagen.flow_from_directory(\n",
    "        '../data/split/val',\n",
    "        target_size=(150, 150),\n",
    "        batch_size=32,\n",
    "        class_mode='categorical')"
   ]
  },
  {
   "cell_type": "code",
   "execution_count": 14,
   "metadata": {},
   "outputs": [
    {
     "name": "stdout",
     "output_type": "stream",
     "text": [
      "Epoch 1/10\n",
      "20/20 [==============================] - 20s 1s/step - loss: 1.6641 - acc: 0.1969 - val_loss: 1.5785 - val_acc: 0.2962\n",
      "Epoch 2/10\n",
      "20/20 [==============================] - 15s 743ms/step - loss: 1.5827 - acc: 0.2568 - val_loss: 1.5670 - val_acc: 0.3065\n",
      "Epoch 3/10\n",
      "20/20 [==============================] - 18s 905ms/step - loss: 1.5654 - acc: 0.2797 - val_loss: 1.5584 - val_acc: 0.2019\n",
      "Epoch 4/10\n",
      "20/20 [==============================] - 19s 958ms/step - loss: 1.5708 - acc: 0.2297 - val_loss: 1.5610 - val_acc: 0.2097\n",
      "Epoch 5/10\n",
      "20/20 [==============================] - 19s 969ms/step - loss: 1.5517 - acc: 0.2453 - val_loss: 1.5625 - val_acc: 0.2474\n",
      "Epoch 6/10\n",
      "20/20 [==============================] - 19s 949ms/step - loss: 1.5543 - acc: 0.2562 - val_loss: 1.5403 - val_acc: 0.2286\n",
      "Epoch 7/10\n",
      "20/20 [==============================] - 19s 936ms/step - loss: 1.5245 - acc: 0.2453 - val_loss: 1.5374 - val_acc: 0.3410\n",
      "Epoch 8/10\n",
      "20/20 [==============================] - 19s 929ms/step - loss: 1.5376 - acc: 0.2933 - val_loss: 1.5374 - val_acc: 0.3279\n",
      "Epoch 9/10\n",
      "20/20 [==============================] - 20s 1s/step - loss: 1.5253 - acc: 0.3156 - val_loss: 1.4945 - val_acc: 0.3404\n",
      "Epoch 10/10\n",
      "20/20 [==============================] - 15s 730ms/step - loss: 1.5053 - acc: 0.3210 - val_loss: 1.4690 - val_acc: 0.3526\n"
     ]
    }
   ],
   "source": [
    "model = Sequential()\n",
    "model.add(Conv2D(32, (3,3), activation='relu', input_shape=(150,150,3)))\n",
    "model.add(MaxPool2D((2, 2)))\n",
    "model.add(Flatten())\n",
    "model.add(Dense(32, input_shape=(150,150,3), activation='relu'))\n",
    "model.add(Dense(5, activation='softmax'))\n",
    "\n",
    "model.compile(optimizer='sgd',\n",
    "            loss = 'categorical_crossentropy',\n",
    "              metrics = ['accuracy']  )\n",
    "\n",
    "history = model.fit_generator(\n",
    "        train_generator,\n",
    "        steps_per_epoch=20,\n",
    "        epochs=10,\n",
    "        validation_data=validation_generator,\n",
    "        validation_steps=50)"
   ]
  },
  {
   "cell_type": "code",
   "execution_count": 17,
   "metadata": {},
   "outputs": [
    {
     "data": {
      "text/plain": [
       "dict_keys(['val_loss', 'val_acc', 'loss', 'acc'])"
      ]
     },
     "execution_count": 17,
     "metadata": {},
     "output_type": "execute_result"
    }
   ],
   "source": [
    "history.history.keys()"
   ]
  },
  {
   "cell_type": "code",
   "execution_count": 20,
   "metadata": {},
   "outputs": [
    {
     "data": {
      "text/plain": [
       "[<matplotlib.lines.Line2D at 0x62c3c97b8>]"
      ]
     },
     "execution_count": 20,
     "metadata": {},
     "output_type": "execute_result"
    },
    {
     "data": {
      "image/png": "[encoded data removed]",
      "text/plain": [
       "<Figure size 432x288 with 1 Axes>"
      ]
     },
     "metadata": {
      "needs_background": "light"
     },
     "output_type": "display_data"
    }
   ],
   "source": [
    "plt.plot(history.history['acc'])\n",
    "plt.plot(history.history['val_acc'])"
   ]
  },
  {
   "cell_type": "code",
   "execution_count": null,
   "metadata": {},
   "outputs": [],
   "source": []
  }
 ],
 "metadata": {
  "kernelspec": {
   "display_name": "Python [conda env:learn-env] *",
   "language": "python",
   "name": "conda-env-learn-env-py"
  },
  "language_info": {
   "codemirror_mode": {
    "name": "ipython",
    "version": 3
   },
   "file_extension": ".py",
   "mimetype": "text/x-python",
   "name": "python",
   "nbconvert_exporter": "python",
   "pygments_lexer": "ipython3",
   "version": "3.6.9"
  }
 },
 "nbformat": 4,
 "nbformat_minor": 4
}
